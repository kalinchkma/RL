{
 "cells": [
  {
   "cell_type": "code",
   "execution_count": 31,
   "id": "3ca69dec-ee0a-4635-9f43-0630f133cd72",
   "metadata": {},
   "outputs": [
    {
     "name": "stdout",
     "output_type": "stream",
     "text": [
      "Total reward earned: 1489.0\n",
      "overall win rate:  0.7445\n",
      "num time selected each bandit: [18, 4, 1978]\n"
     ]
    }
   ],
   "source": [
    "import numpy as np\n",
    "import matplotlib.pyplot as plt\n",
    "import matplotlib\n",
    "from scipy.stats import beta\n",
    "\n",
    "\n",
    "class Bandit:\n",
    "    def __init__(self, p):\n",
    "        self.p = p\n",
    "        self.a = 1\n",
    "        self.b = 1\n",
    "        self.n = 0\n",
    "\n",
    "    def pull(self):\n",
    "        return np.random.random() < self.p\n",
    "\n",
    "    def update(self, x):\n",
    "        self.n += 1\n",
    "        self.b += 1 - x\n",
    "        self.a += x\n",
    "\n",
    "    def smaple(self):\n",
    "        return np.random.beta(self.a, self.b)\n",
    "\n",
    "p = 0;\n",
    "def plot(bandits, trail):\n",
    "    global p\n",
    "    x = np.linspace(0, 1, 200)\n",
    "    for b in bandits:\n",
    "        y = beta.pdf(x, b.a, b.b)\n",
    "        plt.plot(x, y)\n",
    "    plt.title(f\"Bandit distributions after {trail} trails\")\n",
    "    # plt.legend()\n",
    "    plt.savefig(f'plot_save/{p}.png')\n",
    "    p+=1\n",
    "\n",
    "def experiment():\n",
    "\n",
    "    NUM_TRIALS = 2000\n",
    "    BANDIT_PROBABILITIES = [0.2, 0.5, 0.75]\n",
    "    \n",
    "    bandits = [Bandit(p) for p in BANDIT_PROBABILITIES]\n",
    "    \n",
    "    sample_points = [5, 10, 20, 50, 100, 200, 500, 1000, 1500, 1999]\n",
    "    rewards = np.zeros(NUM_TRIALS)\n",
    "    for i in range(NUM_TRIALS):\n",
    "        # Thompson sampling\n",
    "        j = np.argmax([b.smaple() for b in bandits])\n",
    "        \n",
    "        # plot the posteriors\n",
    "        if i in sample_points:\n",
    "            plot(bandits, i)\n",
    "\n",
    "        # pull the arm for the bandit with the largest sample\n",
    "        x = bandits[j].pull()\n",
    "\n",
    "        # update rewards\n",
    "        rewards[i] = x\n",
    "\n",
    "        # update the distributions for the  bandit whose arm we just pulled\n",
    "        bandits[j].update(x)\n",
    "\n",
    "    # print total rewards\n",
    "    print(\"Total reward earned:\", rewards.sum())\n",
    "    print(\"overall win rate: \", rewards.sum() / NUM_TRIALS)\n",
    "    print(\"num time selected each bandit:\", [b.n for b in bandits])\n",
    "\n",
    "\n",
    "if __name__ == \"__main__\":\n",
    "    experiment()\n"
   ]
  },
  {
   "cell_type": "code",
   "execution_count": null,
   "id": "0a15fad5-dc60-44fa-ae39-f545c76481f8",
   "metadata": {},
   "outputs": [],
   "source": []
  }
 ],
 "metadata": {
  "kernelspec": {
   "display_name": "Python 3 (ipykernel)",
   "language": "python",
   "name": "python3"
  },
  "language_info": {
   "codemirror_mode": {
    "name": "ipython",
    "version": 3
   },
   "file_extension": ".py",
   "mimetype": "text/x-python",
   "name": "python",
   "nbconvert_exporter": "python",
   "pygments_lexer": "ipython3",
   "version": "3.11.2"
  }
 },
 "nbformat": 4,
 "nbformat_minor": 5
}
